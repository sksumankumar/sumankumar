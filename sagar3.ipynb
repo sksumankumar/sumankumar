{
 "cells": [
  {
   "cell_type": "code",
   "execution_count": 1,
   "id": "72a453d3",
   "metadata": {},
   "outputs": [
    {
     "name": "stdout",
     "output_type": "stream",
     "text": [
      "WARNING:tensorflow:From C:\\Users\\User\\anaconda3\\Lib\\site-packages\\keras\\src\\losses.py:2976: The name tf.losses.sparse_softmax_cross_entropy is deprecated. Please use tf.compat.v1.losses.sparse_softmax_cross_entropy instead.\n",
      "\n"
     ]
    }
   ],
   "source": [
    "import tensorflow as tf"
   ]
  },
  {
   "cell_type": "code",
   "execution_count": 2,
   "id": "c0885651",
   "metadata": {},
   "outputs": [],
   "source": [
    "from tensorflow.keras import Sequential\n",
    "from tensorflow.keras.layers import Conv1D, Flatten,Dense,Dropout\n",
    "from tensorflow.keras.optimizers import Adam"
   ]
  },
  {
   "cell_type": "code",
   "execution_count": 3,
   "id": "b419bf7e",
   "metadata": {},
   "outputs": [],
   "source": [
    "import numpy as np\n",
    "import pandas as pd\n",
    "import matplotlib.pyplot as plt\n",
    "import seaborn as sns"
   ]
  },
  {
   "cell_type": "code",
   "execution_count": 68,
   "id": "58d608cb",
   "metadata": {},
   "outputs": [],
   "source": [
    "from sklearn import datasets,metrics\n",
    "from sklearn.model_selection import train_test_split\n",
    "from sklearn.preprocessing import StandardScaler"
   ]
  },
  {
   "cell_type": "code",
   "execution_count": 69,
   "id": "16473fc8",
   "metadata": {},
   "outputs": [],
   "source": [
    "cancerdata=datasets.load_breast_cancer()"
   ]
  },
  {
   "cell_type": "code",
   "execution_count": 70,
   "id": "60190916",
   "metadata": {},
   "outputs": [
    {
     "data": {
      "text/html": [
       "<div>\n",
       "<style scoped>\n",
       "    .dataframe tbody tr th:only-of-type {\n",
       "        vertical-align: middle;\n",
       "    }\n",
       "\n",
       "    .dataframe tbody tr th {\n",
       "        vertical-align: top;\n",
       "    }\n",
       "\n",
       "    .dataframe thead th {\n",
       "        text-align: right;\n",
       "    }\n",
       "</style>\n",
       "<table border=\"1\" class=\"dataframe\">\n",
       "  <thead>\n",
       "    <tr style=\"text-align: right;\">\n",
       "      <th></th>\n",
       "      <th>mean radius</th>\n",
       "      <th>mean texture</th>\n",
       "      <th>mean perimeter</th>\n",
       "      <th>mean area</th>\n",
       "      <th>mean smoothness</th>\n",
       "      <th>mean compactness</th>\n",
       "      <th>mean concavity</th>\n",
       "      <th>mean concave points</th>\n",
       "      <th>mean symmetry</th>\n",
       "      <th>mean fractal dimension</th>\n",
       "      <th>...</th>\n",
       "      <th>worst radius</th>\n",
       "      <th>worst texture</th>\n",
       "      <th>worst perimeter</th>\n",
       "      <th>worst area</th>\n",
       "      <th>worst smoothness</th>\n",
       "      <th>worst compactness</th>\n",
       "      <th>worst concavity</th>\n",
       "      <th>worst concave points</th>\n",
       "      <th>worst symmetry</th>\n",
       "      <th>worst fractal dimension</th>\n",
       "    </tr>\n",
       "  </thead>\n",
       "  <tbody>\n",
       "    <tr>\n",
       "      <th>0</th>\n",
       "      <td>17.99</td>\n",
       "      <td>10.38</td>\n",
       "      <td>122.80</td>\n",
       "      <td>1001.0</td>\n",
       "      <td>0.11840</td>\n",
       "      <td>0.27760</td>\n",
       "      <td>0.3001</td>\n",
       "      <td>0.14710</td>\n",
       "      <td>0.2419</td>\n",
       "      <td>0.07871</td>\n",
       "      <td>...</td>\n",
       "      <td>25.38</td>\n",
       "      <td>17.33</td>\n",
       "      <td>184.60</td>\n",
       "      <td>2019.0</td>\n",
       "      <td>0.1622</td>\n",
       "      <td>0.6656</td>\n",
       "      <td>0.7119</td>\n",
       "      <td>0.2654</td>\n",
       "      <td>0.4601</td>\n",
       "      <td>0.11890</td>\n",
       "    </tr>\n",
       "    <tr>\n",
       "      <th>1</th>\n",
       "      <td>20.57</td>\n",
       "      <td>17.77</td>\n",
       "      <td>132.90</td>\n",
       "      <td>1326.0</td>\n",
       "      <td>0.08474</td>\n",
       "      <td>0.07864</td>\n",
       "      <td>0.0869</td>\n",
       "      <td>0.07017</td>\n",
       "      <td>0.1812</td>\n",
       "      <td>0.05667</td>\n",
       "      <td>...</td>\n",
       "      <td>24.99</td>\n",
       "      <td>23.41</td>\n",
       "      <td>158.80</td>\n",
       "      <td>1956.0</td>\n",
       "      <td>0.1238</td>\n",
       "      <td>0.1866</td>\n",
       "      <td>0.2416</td>\n",
       "      <td>0.1860</td>\n",
       "      <td>0.2750</td>\n",
       "      <td>0.08902</td>\n",
       "    </tr>\n",
       "    <tr>\n",
       "      <th>2</th>\n",
       "      <td>19.69</td>\n",
       "      <td>21.25</td>\n",
       "      <td>130.00</td>\n",
       "      <td>1203.0</td>\n",
       "      <td>0.10960</td>\n",
       "      <td>0.15990</td>\n",
       "      <td>0.1974</td>\n",
       "      <td>0.12790</td>\n",
       "      <td>0.2069</td>\n",
       "      <td>0.05999</td>\n",
       "      <td>...</td>\n",
       "      <td>23.57</td>\n",
       "      <td>25.53</td>\n",
       "      <td>152.50</td>\n",
       "      <td>1709.0</td>\n",
       "      <td>0.1444</td>\n",
       "      <td>0.4245</td>\n",
       "      <td>0.4504</td>\n",
       "      <td>0.2430</td>\n",
       "      <td>0.3613</td>\n",
       "      <td>0.08758</td>\n",
       "    </tr>\n",
       "    <tr>\n",
       "      <th>3</th>\n",
       "      <td>11.42</td>\n",
       "      <td>20.38</td>\n",
       "      <td>77.58</td>\n",
       "      <td>386.1</td>\n",
       "      <td>0.14250</td>\n",
       "      <td>0.28390</td>\n",
       "      <td>0.2414</td>\n",
       "      <td>0.10520</td>\n",
       "      <td>0.2597</td>\n",
       "      <td>0.09744</td>\n",
       "      <td>...</td>\n",
       "      <td>14.91</td>\n",
       "      <td>26.50</td>\n",
       "      <td>98.87</td>\n",
       "      <td>567.7</td>\n",
       "      <td>0.2098</td>\n",
       "      <td>0.8663</td>\n",
       "      <td>0.6869</td>\n",
       "      <td>0.2575</td>\n",
       "      <td>0.6638</td>\n",
       "      <td>0.17300</td>\n",
       "    </tr>\n",
       "    <tr>\n",
       "      <th>4</th>\n",
       "      <td>20.29</td>\n",
       "      <td>14.34</td>\n",
       "      <td>135.10</td>\n",
       "      <td>1297.0</td>\n",
       "      <td>0.10030</td>\n",
       "      <td>0.13280</td>\n",
       "      <td>0.1980</td>\n",
       "      <td>0.10430</td>\n",
       "      <td>0.1809</td>\n",
       "      <td>0.05883</td>\n",
       "      <td>...</td>\n",
       "      <td>22.54</td>\n",
       "      <td>16.67</td>\n",
       "      <td>152.20</td>\n",
       "      <td>1575.0</td>\n",
       "      <td>0.1374</td>\n",
       "      <td>0.2050</td>\n",
       "      <td>0.4000</td>\n",
       "      <td>0.1625</td>\n",
       "      <td>0.2364</td>\n",
       "      <td>0.07678</td>\n",
       "    </tr>\n",
       "  </tbody>\n",
       "</table>\n",
       "<p>5 rows × 30 columns</p>\n",
       "</div>"
      ],
      "text/plain": [
       "   mean radius  mean texture  mean perimeter  mean area  mean smoothness  \\\n",
       "0        17.99         10.38          122.80     1001.0          0.11840   \n",
       "1        20.57         17.77          132.90     1326.0          0.08474   \n",
       "2        19.69         21.25          130.00     1203.0          0.10960   \n",
       "3        11.42         20.38           77.58      386.1          0.14250   \n",
       "4        20.29         14.34          135.10     1297.0          0.10030   \n",
       "\n",
       "   mean compactness  mean concavity  mean concave points  mean symmetry  \\\n",
       "0           0.27760          0.3001              0.14710         0.2419   \n",
       "1           0.07864          0.0869              0.07017         0.1812   \n",
       "2           0.15990          0.1974              0.12790         0.2069   \n",
       "3           0.28390          0.2414              0.10520         0.2597   \n",
       "4           0.13280          0.1980              0.10430         0.1809   \n",
       "\n",
       "   mean fractal dimension  ...  worst radius  worst texture  worst perimeter  \\\n",
       "0                 0.07871  ...         25.38          17.33           184.60   \n",
       "1                 0.05667  ...         24.99          23.41           158.80   \n",
       "2                 0.05999  ...         23.57          25.53           152.50   \n",
       "3                 0.09744  ...         14.91          26.50            98.87   \n",
       "4                 0.05883  ...         22.54          16.67           152.20   \n",
       "\n",
       "   worst area  worst smoothness  worst compactness  worst concavity  \\\n",
       "0      2019.0            0.1622             0.6656           0.7119   \n",
       "1      1956.0            0.1238             0.1866           0.2416   \n",
       "2      1709.0            0.1444             0.4245           0.4504   \n",
       "3       567.7            0.2098             0.8663           0.6869   \n",
       "4      1575.0            0.1374             0.2050           0.4000   \n",
       "\n",
       "   worst concave points  worst symmetry  worst fractal dimension  \n",
       "0                0.2654          0.4601                  0.11890  \n",
       "1                0.1860          0.2750                  0.08902  \n",
       "2                0.2430          0.3613                  0.08758  \n",
       "3                0.2575          0.6638                  0.17300  \n",
       "4                0.1625          0.2364                  0.07678  \n",
       "\n",
       "[5 rows x 30 columns]"
      ]
     },
     "execution_count": 70,
     "metadata": {},
     "output_type": "execute_result"
    }
   ],
   "source": [
    "x=pd.DataFrame(data=cancerdata.data,columns=cancerdata.feature_names)\n",
    "x.head()"
   ]
  },
  {
   "cell_type": "code",
   "execution_count": 71,
   "id": "4d46bfe7",
   "metadata": {},
   "outputs": [],
   "source": [
    "y=cancerdata.target"
   ]
  },
  {
   "cell_type": "code",
   "execution_count": 72,
   "id": "700b219a",
   "metadata": {},
   "outputs": [],
   "source": [
    "x_train,x_test,y_train,y_test=train_test_split(x,y,test_size=0.2)"
   ]
  },
  {
   "cell_type": "code",
   "execution_count": 73,
   "id": "ee1b070e",
   "metadata": {},
   "outputs": [],
   "source": [
    "Scaler=StandardScaler()\n",
    "x_train=Scaler.fit_transform(x_train)\n",
    "x_test=Scaler.transform(x_test)"
   ]
  },
  {
   "cell_type": "code",
   "execution_count": 74,
   "id": "caa6a158",
   "metadata": {},
   "outputs": [
    {
     "name": "stdout",
     "output_type": "stream",
     "text": [
      "13650\n",
      "3420\n"
     ]
    }
   ],
   "source": [
    "print(x_train.size)\n",
    "print(x_test.size)"
   ]
  },
  {
   "cell_type": "code",
   "execution_count": 75,
   "id": "fb1136cb",
   "metadata": {},
   "outputs": [
    {
     "name": "stdout",
     "output_type": "stream",
     "text": [
      "(455, 30)\n",
      "(114, 30)\n"
     ]
    }
   ],
   "source": [
    "print(x_train.shape)\n",
    "print(x_test.shape)"
   ]
  },
  {
   "cell_type": "code",
   "execution_count": 76,
   "id": "1f85f6f2",
   "metadata": {},
   "outputs": [],
   "source": [
    "x_train = x_train.reshape(455, 30)\n",
    "x_test = x_test.reshape(114, 30)"
   ]
  },
  {
   "cell_type": "code",
   "execution_count": 77,
   "id": "f69980aa",
   "metadata": {},
   "outputs": [],
   "source": [
    "model=Sequential()\n",
    "model.add(Conv1D(filters=16,kernel_size=2,activation='relu',input_shape=(30,1)))\n",
    "model.add(Dropout(0.2))\n",
    "model.add(Conv1D(32,2,activation='relu'))\n",
    "model.add(Dropout(0.2))\n",
    "model.add(Flatten())\n",
    "model.add(Dense(32,activation='relu'))\n",
    "model.add(Dropout(0.2))\n",
    "model.add(Dense(1,activation='sigmoid'))"
   ]
  },
  {
   "cell_type": "code",
   "execution_count": 78,
   "id": "9940a2b8",
   "metadata": {},
   "outputs": [],
   "source": [
    "model.compile(optimizer=Adam(learning_rate=0.0001),\n",
    "              loss='binary_crossentropy',\n",
    "              metrics=['accuracy'])"
   ]
  },
  {
   "cell_type": "code",
   "execution_count": 79,
   "id": "c9cbd368",
   "metadata": {},
   "outputs": [
    {
     "name": "stdout",
     "output_type": "stream",
     "text": [
      "Epoch 1/35\n",
      "15/15 [==============================] - 3s 42ms/step - loss: 0.6737 - accuracy: 0.6220 - val_loss: 0.6410 - val_accuracy: 0.6842\n",
      "Epoch 2/35\n",
      "15/15 [==============================] - 0s 14ms/step - loss: 0.6262 - accuracy: 0.6637 - val_loss: 0.6049 - val_accuracy: 0.7719\n",
      "Epoch 3/35\n",
      "15/15 [==============================] - 0s 14ms/step - loss: 0.5858 - accuracy: 0.7319 - val_loss: 0.5684 - val_accuracy: 0.8246\n",
      "Epoch 4/35\n",
      "15/15 [==============================] - 0s 13ms/step - loss: 0.5493 - accuracy: 0.7714 - val_loss: 0.5273 - val_accuracy: 0.8509\n",
      "Epoch 5/35\n",
      "15/15 [==============================] - 0s 13ms/step - loss: 0.5029 - accuracy: 0.8022 - val_loss: 0.4871 - val_accuracy: 0.8596\n",
      "Epoch 6/35\n",
      "15/15 [==============================] - 0s 14ms/step - loss: 0.4641 - accuracy: 0.8396 - val_loss: 0.4485 - val_accuracy: 0.8684\n",
      "Epoch 7/35\n",
      "15/15 [==============================] - 0s 14ms/step - loss: 0.4181 - accuracy: 0.8747 - val_loss: 0.4120 - val_accuracy: 0.8860\n",
      "Epoch 8/35\n",
      "15/15 [==============================] - 0s 13ms/step - loss: 0.3789 - accuracy: 0.8989 - val_loss: 0.3798 - val_accuracy: 0.8772\n",
      "Epoch 9/35\n",
      "15/15 [==============================] - 0s 12ms/step - loss: 0.3435 - accuracy: 0.9099 - val_loss: 0.3507 - val_accuracy: 0.8860\n",
      "Epoch 10/35\n",
      "15/15 [==============================] - 0s 14ms/step - loss: 0.3059 - accuracy: 0.9319 - val_loss: 0.3250 - val_accuracy: 0.8772\n",
      "Epoch 11/35\n",
      "15/15 [==============================] - 0s 14ms/step - loss: 0.2761 - accuracy: 0.9341 - val_loss: 0.3034 - val_accuracy: 0.8772\n",
      "Epoch 12/35\n",
      "15/15 [==============================] - 0s 15ms/step - loss: 0.2487 - accuracy: 0.9385 - val_loss: 0.2853 - val_accuracy: 0.8860\n",
      "Epoch 13/35\n",
      "15/15 [==============================] - 0s 15ms/step - loss: 0.2197 - accuracy: 0.9451 - val_loss: 0.2700 - val_accuracy: 0.9035\n",
      "Epoch 14/35\n",
      "15/15 [==============================] - 0s 17ms/step - loss: 0.2076 - accuracy: 0.9560 - val_loss: 0.2570 - val_accuracy: 0.9123\n",
      "Epoch 15/35\n",
      "15/15 [==============================] - 0s 16ms/step - loss: 0.1861 - accuracy: 0.9495 - val_loss: 0.2465 - val_accuracy: 0.9123\n",
      "Epoch 16/35\n",
      "15/15 [==============================] - 0s 17ms/step - loss: 0.1766 - accuracy: 0.9516 - val_loss: 0.2378 - val_accuracy: 0.9211\n",
      "Epoch 17/35\n",
      "15/15 [==============================] - 0s 15ms/step - loss: 0.1631 - accuracy: 0.9670 - val_loss: 0.2299 - val_accuracy: 0.9211\n",
      "Epoch 18/35\n",
      "15/15 [==============================] - 0s 17ms/step - loss: 0.1516 - accuracy: 0.9604 - val_loss: 0.2238 - val_accuracy: 0.9211\n",
      "Epoch 19/35\n",
      "15/15 [==============================] - 0s 16ms/step - loss: 0.1481 - accuracy: 0.9582 - val_loss: 0.2174 - val_accuracy: 0.9211\n",
      "Epoch 20/35\n",
      "15/15 [==============================] - 0s 15ms/step - loss: 0.1378 - accuracy: 0.9670 - val_loss: 0.2128 - val_accuracy: 0.9211\n",
      "Epoch 21/35\n",
      "15/15 [==============================] - 0s 16ms/step - loss: 0.1247 - accuracy: 0.9648 - val_loss: 0.2080 - val_accuracy: 0.9211\n",
      "Epoch 22/35\n",
      "15/15 [==============================] - 0s 17ms/step - loss: 0.1259 - accuracy: 0.9626 - val_loss: 0.2043 - val_accuracy: 0.9211\n",
      "Epoch 23/35\n",
      "15/15 [==============================] - 0s 16ms/step - loss: 0.1135 - accuracy: 0.9604 - val_loss: 0.2005 - val_accuracy: 0.9211\n",
      "Epoch 24/35\n",
      "15/15 [==============================] - 0s 18ms/step - loss: 0.1143 - accuracy: 0.9714 - val_loss: 0.1978 - val_accuracy: 0.9211\n",
      "Epoch 25/35\n",
      "15/15 [==============================] - 0s 18ms/step - loss: 0.0990 - accuracy: 0.9824 - val_loss: 0.1949 - val_accuracy: 0.9386\n",
      "Epoch 26/35\n",
      "15/15 [==============================] - 0s 16ms/step - loss: 0.1021 - accuracy: 0.9758 - val_loss: 0.1929 - val_accuracy: 0.9474\n",
      "Epoch 27/35\n",
      "15/15 [==============================] - 0s 15ms/step - loss: 0.0964 - accuracy: 0.9736 - val_loss: 0.1900 - val_accuracy: 0.9474\n",
      "Epoch 28/35\n",
      "15/15 [==============================] - 0s 15ms/step - loss: 0.0917 - accuracy: 0.9868 - val_loss: 0.1882 - val_accuracy: 0.9474\n",
      "Epoch 29/35\n",
      "15/15 [==============================] - 0s 16ms/step - loss: 0.0947 - accuracy: 0.9582 - val_loss: 0.1874 - val_accuracy: 0.9474\n",
      "Epoch 30/35\n",
      "15/15 [==============================] - 0s 17ms/step - loss: 0.0906 - accuracy: 0.9714 - val_loss: 0.1860 - val_accuracy: 0.9474\n",
      "Epoch 31/35\n",
      "15/15 [==============================] - 0s 17ms/step - loss: 0.0896 - accuracy: 0.9714 - val_loss: 0.1847 - val_accuracy: 0.9474\n",
      "Epoch 32/35\n",
      "15/15 [==============================] - 0s 15ms/step - loss: 0.0732 - accuracy: 0.9846 - val_loss: 0.1838 - val_accuracy: 0.9474\n",
      "Epoch 33/35\n",
      "15/15 [==============================] - 0s 16ms/step - loss: 0.0795 - accuracy: 0.9890 - val_loss: 0.1808 - val_accuracy: 0.9561\n",
      "Epoch 34/35\n",
      "15/15 [==============================] - 0s 17ms/step - loss: 0.0662 - accuracy: 0.9890 - val_loss: 0.1799 - val_accuracy: 0.9561\n",
      "Epoch 35/35\n",
      "15/15 [==============================] - 0s 17ms/step - loss: 0.0711 - accuracy: 0.9868 - val_loss: 0.1803 - val_accuracy: 0.9561\n"
     ]
    }
   ],
   "source": [
    "history = model.fit(x_train, y_train, epochs=35, verbose=1, validation_data=(x_test, y_test))"
   ]
  },
  {
   "cell_type": "code",
   "execution_count": 80,
   "id": "feb02b15",
   "metadata": {},
   "outputs": [
    {
     "name": "stdout",
     "output_type": "stream",
     "text": [
      "The tensorboard extension is already loaded. To reload it, use:\n",
      "  %reload_ext tensorboard\n"
     ]
    }
   ],
   "source": [
    "%load_ext tensorboard"
   ]
  },
  {
   "cell_type": "code",
   "execution_count": 64,
   "id": "3a4e69f9",
   "metadata": {},
   "outputs": [
    {
     "data": {
      "text/plain": [
       "Reusing TensorBoard on port 6006 (pid 17744), started 1 day, 3:52:29 ago. (Use '!kill 17744' to kill it.)"
      ]
     },
     "metadata": {},
     "output_type": "display_data"
    },
    {
     "data": {
      "text/html": [
       "\n",
       "      <iframe id=\"tensorboard-frame-a22387e1a0889d20\" width=\"100%\" height=\"800\" frameborder=\"0\">\n",
       "      </iframe>\n",
       "      <script>\n",
       "        (function() {\n",
       "          const frame = document.getElementById(\"tensorboard-frame-a22387e1a0889d20\");\n",
       "          const url = new URL(\"/\", window.location);\n",
       "          const port = 6006;\n",
       "          if (port) {\n",
       "            url.port = port;\n",
       "          }\n",
       "          frame.src = url;\n",
       "        })();\n",
       "      </script>\n",
       "    "
      ],
      "text/plain": [
       "<IPython.core.display.HTML object>"
      ]
     },
     "metadata": {},
     "output_type": "display_data"
    }
   ],
   "source": [
    "tensorboard --logdir logs/fit"
   ]
  },
  {
   "cell_type": "code",
   "execution_count": null,
   "id": "5066cda3",
   "metadata": {},
   "outputs": [],
   "source": []
  }
 ],
 "metadata": {
  "kernelspec": {
   "display_name": "Python 3 (ipykernel)",
   "language": "python",
   "name": "python3"
  },
  "language_info": {
   "codemirror_mode": {
    "name": "ipython",
    "version": 3
   },
   "file_extension": ".py",
   "mimetype": "text/x-python",
   "name": "python",
   "nbconvert_exporter": "python",
   "pygments_lexer": "ipython3",
   "version": "3.11.4"
  }
 },
 "nbformat": 4,
 "nbformat_minor": 5
}
